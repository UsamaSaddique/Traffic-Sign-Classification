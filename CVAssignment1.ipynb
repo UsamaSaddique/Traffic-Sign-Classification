{
  "nbformat": 4,
  "nbformat_minor": 0,
  "metadata": {
    "colab": {
      "provenance": [],
      "collapsed_sections": []
    },
    "kernelspec": {
      "name": "python3",
      "display_name": "Python 3"
    },
    "language_info": {
      "name": "python"
    }
  },
  "cells": [
    {
      "cell_type": "code",
      "execution_count": 24,
      "metadata": {
        "id": "UNomv-yr352o"
      },
      "outputs": [],
      "source": [
        "import numpy as np\n",
        "import pandas as pd\n",
        "import matplotlib.pyplot as plt\n",
        "import cv2\n",
        "import tensorflow as tf\n",
        "from PIL import Image\n",
        "import os\n",
        "from sklearn.cluster import KMeans\n",
        "from scipy import ndimage\n",
        "from scipy.spatial import distance"
      ]
    },
    {
      "cell_type": "markdown",
      "source": [
        "**Importing data from drive**\n",
        "\n",
        "\n"
      ],
      "metadata": {
        "id": "zP-Jd8c3ptaZ"
      }
    },
    {
      "cell_type": "code",
      "source": [
        "from google.colab import drive\n",
        "drive.mount('/content/drive')"
      ],
      "metadata": {
        "id": "rxaNkxXL--7F",
        "colab": {
          "base_uri": "https://localhost:8080/"
        },
        "outputId": "65d4ea1d-0ebe-4447-bde5-01d0a6aea5fe"
      },
      "execution_count": null,
      "outputs": [
        {
          "output_type": "stream",
          "name": "stdout",
          "text": [
            "Drive already mounted at /content/drive; to attempt to forcibly remount, call drive.mount(\"/content/drive\", force_remount=True).\n"
          ]
        }
      ]
    },
    {
      "cell_type": "markdown",
      "source": [
        "**Taking all images from drive **"
      ],
      "metadata": {
        "id": "8YWBT6aqzy_X"
      }
    },
    {
      "cell_type": "code",
      "source": [
        "# return a dictionary that holds all images category by category. \n",
        "def load_images_from_folder(folder):\n",
        "    images = {}\n",
        "    for filename in os.listdir(folder):\n",
        "        category = []\n",
        "        path = folder + \"/\" + filename\n",
        "        for cat in os.listdir(path):\n",
        "            img = cv2.imread(path + \"/\" + cat,0)\n",
        "#img = cv2.cvtColor(img, cv2.COLOR_BGR2GRAY)\n",
        "            if img is not None:\n",
        "                category.append(img)\n",
        "        images[filename] = category\n",
        "    return images\n",
        "# take all images category by category\n",
        "images = load_images_from_folder('/content/drive/MyDrive/CS67_Fall2022_ A1_Dataset/Training')   \n",
        "# take test images\n",
        "test = load_images_from_folder(\"/content/drive/MyDrive/CS67_Fall2022_ A1_Dataset/Test\") "
      ],
      "metadata": {
        "id": "Xhf3bjwfMckN"
      },
      "execution_count": null,
      "outputs": []
    },
    {
      "cell_type": "markdown",
      "source": [
        "**Using SIFT descriptor**"
      ],
      "metadata": {
        "id": "ZBVhmioaGM7H"
      }
    },
    {
      "cell_type": "code",
      "source": [
        "# Creates descriptors using sift, it takes one parameter that is images dictionary and return an array whose first index holds \n",
        "# the decriptor_list without an order and the second index holds the sift_vectors dictionary which holds the descriptors\n",
        "def sift_features(images):\n",
        "    sift_vectors = {}\n",
        "    descriptor_list = []\n",
        "    sift_detector = cv2.xfeatures2d.SIFT_create()\n",
        "    for key,value in images.items():\n",
        "        features = []\n",
        "        for img in value:\n",
        "            kp, des = sift_detector.detectAndCompute(img,None)\n",
        "           \n",
        "            \n",
        "            descriptor_list.extend(des)\n",
        "            features.append(des)\n",
        "        sift_vectors[key] = features\n",
        "    return [descriptor_list, sift_vectors]\n",
        "\n",
        "sifts = sift_features(images) \n",
        "# Taking unordered descriptor list\n",
        "descriptor_list = sifts[0] \n",
        "# Takeing sift features which are seperated class by class for training data\n",
        "all_bovw_feature = sifts[1] \n",
        "# Takeing sift features which are seperated class by class for test data\n",
        "test_bovw_feature = sift_features(test)[1] \n"
      ],
      "metadata": {
        "id": "uiRWyF6atARg"
      },
      "execution_count": 29,
      "outputs": []
    },
    {
      "cell_type": "markdown",
      "source": [
        "**Unsupervised (Applying k means clustering and ploting histogram)**"
      ],
      "metadata": {
        "id": "CN_Zk5bu-u6r"
      }
    },
    {
      "cell_type": "code",
      "source": [
        "# K-means clustering algorithm takes two arguments one is number of clusters k and other is descriptors list \n",
        "# IT returns an array which holds central points\n",
        "def K_Means(k, descriptor_list):\n",
        "    K_Means = KMeans(n_clusters = k, n_init=10)\n",
        "    K_Means.fit(descriptor_list)\n",
        "    Visual_Words = K_Means.cluster_centers_ \n",
        "    return Visual_Words\n",
        "    \n",
        "# It takes visual words which are central points    \n",
        "Visual_Words = K_Means(250, descriptor_list) \n",
        "plt.hist(Visual_Words)"
      ],
      "metadata": {
        "id": "wD_VZTtAtJhb",
        "colab": {
          "base_uri": "https://localhost:8080/",
          "height": 456
        },
        "outputId": "102ccb63-9d48-488d-9e31-b9d1573bc45b"
      },
      "execution_count": 41,
      "outputs": [
        {
          "output_type": "execute_result",
          "data": {
            "text/plain": [
              "(array([[136.,  69.,  24., ...,   0.,   0.,   0.],\n",
              "        [176.,  47.,   9., ...,   0.,   0.,   0.],\n",
              "        [194.,  30.,  13., ...,   0.,   0.,   0.],\n",
              "        ...,\n",
              "        [195.,  36.,  11., ...,   0.,   0.,   0.],\n",
              "        [215.,  21.,   6., ...,   0.,   0.,   0.],\n",
              "        [211.,  24.,   5., ...,   0.,   0.,   0.]]),\n",
              " array([1.06581410e-14, 1.88741456e+01, 3.77482912e+01, 5.66224368e+01,\n",
              "        7.54965825e+01, 9.43707281e+01, 1.13244874e+02, 1.32119019e+02,\n",
              "        1.50993165e+02, 1.69867311e+02, 1.88741456e+02]),\n",
              " <a list of 128 Lists of Patches objects>)"
            ]
          },
          "metadata": {},
          "execution_count": 41
        },
        {
          "output_type": "display_data",
          "data": {
            "text/plain": [
              "<Figure size 432x288 with 1 Axes>"
            ],
            "image/png": "[encoded data removed]"
          },
          "metadata": {
            "needs_background": "light"
          }
        }
      ]
    },
    {
      "cell_type": "markdown",
      "source": [
        "**Creating a function for histogram**"
      ],
      "metadata": {
        "id": "GGymgXah3E8X"
      }
    },
    {
      "cell_type": "code",
      "source": [
        "def find_index(image, center):\n",
        "    count = 0\n",
        "    ind = 0\n",
        "    for i in range(len(center)):\n",
        "        if(i == 0):\n",
        "           count = distance.euclidean(image, center[i]) \n",
        "           #count = L1_dist(image, center[i])\n",
        "        else:\n",
        "            dist = distance.euclidean(image, center[i]) \n",
        "            #dist = L1_dist(image, center[i])\n",
        "            if(dist < count):\n",
        "                ind = i\n",
        "                count = dist\n",
        "    return ind"
      ],
      "metadata": {
        "id": "Ct3L7K3uyJZM"
      },
      "execution_count": 42,
      "outputs": []
    },
    {
      "cell_type": "code",
      "source": [
        "# Our defined function takes two arguments.The first argument is a dictionary that holds the descriptors and the second parameter is an \n",
        "# array that holds the central points. It returns a dictionary with histograms of aimages. \n",
        "def img_class(all_bovw, centers):\n",
        "    dict_feature = {}\n",
        "    for key,value in all_bovw.items():\n",
        "        category = []\n",
        "        for img in value:\n",
        "            histogram = np.zeros(len(centers))\n",
        "            for each_feature in img:\n",
        "                ind = find_index(each_feature, centers)\n",
        "                histogram[ind] += 1\n",
        "            category.append(histogram)\n",
        "        dict_feature[key] = category\n",
        "    return dict_feature\n",
        "    \n",
        "# Creating histograms for train data    \n",
        "bovw_train = img_class(all_bovw_feature, Visual_Words) \n",
        "# Creating histograms for test data\n",
        "bovw_test = img_class(test_bovw_feature, Visual_Words)"
      ],
      "metadata": {
        "id": "22G9ouYHtJox"
      },
      "execution_count": 43,
      "outputs": []
    },
    {
      "cell_type": "markdown",
      "source": [
        "**Supervised (K nearest neighbour)**"
      ],
      "metadata": {
        "id": "4hkTz1reGbaD"
      }
    },
    {
      "cell_type": "code",
      "source": [
        "# I used only 1 nearest neighbour which takes 2 arguments (feature vectors of training and test images)\n",
        "# The defined function returns an array that holds the number of test images, number of correctly predicted images and records of class based images respectively\n",
        "def knn(images, tests):\n",
        "    num_test = 0\n",
        "    correct_predict = 0\n",
        "    class_based = {}\n",
        "    \n",
        "    for test_key, test_val in tests.items():\n",
        "        class_based[test_key] = [0, 0] # [correct, all]\n",
        "        for tst in test_val:\n",
        "            predict_start = 0\n",
        "            #print(test_key)\n",
        "            minimum = 0\n",
        "            key = \"a\" #predicted\n",
        "            for train_key, train_val in images.items():\n",
        "                for train in train_val:\n",
        "                    if(predict_start == 0):\n",
        "                        minimum = distance.euclidean(tst, train)\n",
        "                        #minimum = L1_dist(tst,train)\n",
        "                        key = train_key\n",
        "                        predict_start += 1\n",
        "                    else:\n",
        "                        dist = distance.euclidean(tst, train)\n",
        "                        #dist = L1_dist(tst,train)\n",
        "                        if(dist < minimum):\n",
        "                            minimum = dist\n",
        "                            key = train_key\n",
        "            \n",
        "            if(test_key == key):\n",
        "                correct_predict += 1\n",
        "                class_based[test_key][0] += 1\n",
        "            num_test += 1\n",
        "            class_based[test_key][1] += 1\n",
        "            #print(minimum)\n",
        "    return [num_test, correct_predict, class_based]\n",
        "    \n",
        "# Call the knn function    \n",
        "results_bowl = knn(bovw_train, bovw_test) "
      ],
      "metadata": {
        "id": "TbDYIbfmz5Q8"
      },
      "execution_count": 44,
      "outputs": []
    },
    {
      "cell_type": "markdown",
      "source": [
        "**Defining and calculating accuracy**"
      ],
      "metadata": {
        "id": "b4bREOiuGxK3"
      }
    },
    {
      "cell_type": "code",
      "source": [
        "# Now we will define a function that calculates average accuaracy.  \n",
        "def accuracy(results):\n",
        "    avg_accuracy = (results[1] / results[0]) * 100\n",
        "    print(\"Average accuracy: %\" + str(avg_accuracy))\n",
        "    print(\"\\nClass based accuracies: \\n\")\n",
        "    for key,value in results[2].items():\n",
        "        acc = (value[0] / value[1]) * 100\n",
        "        print(key + \" : %\" + str(acc))\n",
        "        \n",
        "# Calculates the accuracies and write the results to the console.       \n",
        "accuracy(results_bowl) "
      ],
      "metadata": {
        "colab": {
          "base_uri": "https://localhost:8080/"
        },
        "id": "XfYIc7UpzB_i",
        "outputId": "a90706b2-bd51-4064-cff9-289c376c62ec"
      },
      "execution_count": 45,
      "outputs": [
        {
          "output_type": "stream",
          "name": "stdout",
          "text": [
            "Average accuracy: %58.5\n",
            "\n",
            "Class based accuracies: \n",
            "\n",
            "00002 : %90.0\n",
            "00008 : %80.0\n",
            "00004 : %65.0\n",
            "00006 : %50.0\n",
            "00003 : %50.0\n",
            "00001 : %45.0\n",
            "00007 : %30.0\n",
            "00005 : %50.0\n",
            "00009 : %65.0\n",
            "00010 : %60.0\n"
          ]
        }
      ]
    },
    {
      "cell_type": "code",
      "source": [],
      "metadata": {
        "id": "mDn-OedIzKQX"
      },
      "execution_count": null,
      "outputs": []
    }
  ]
}